{
 "cells": [
  {
   "cell_type": "code",
   "execution_count": 20,
   "outputs": [
    {
     "data": {
      "text/plain": "'google.json'"
     },
     "execution_count": 20,
     "metadata": {},
     "output_type": "execute_result"
    }
   ],
   "source": [
    "import os\n",
    "import re\n",
    "import vertexai\n",
    "from google.cloud import aiplatform\n",
    "from vertexai.language_models import TextGenerationModel\n",
    "import google.generativeai as palm\n",
    "\n",
    "from dotenv import load_dotenv\n",
    "load_dotenv()\n",
    "\n",
    "vertexai.init(project=\"ghc-015\", location=\"us-central1\")\n",
    "os.getenv(\"GOOGLE_APPLICATION_CREDENTIALS\")"
   ],
   "metadata": {
    "collapsed": false,
    "ExecuteTime": {
     "end_time": "2023-07-09T02:27:54.052903200Z",
     "start_time": "2023-07-09T02:27:54.023631100Z"
    }
   }
  },
  {
   "cell_type": "code",
   "execution_count": 21,
   "outputs": [
    {
     "name": "stdout",
     "output_type": "stream",
     "text": [
      "import pyautogui\n",
      "import webbrowser\n",
      "\n",
      "# Press the Windows key to open the Start menu.\n",
      "pyautogui.press('win')\n",
      "\n",
      "# Type \"google chrome\" and press Enter.\n",
      "pyautogui.write('google chrome')\n",
      "pyautogui.press('enter')\n",
      "\n",
      "# Wait for Google Chrome to open.\n",
      "webbrowser.get('chrome').open('https://www.google.com/search?q=ai')\n",
      "\n"
     ]
    }
   ],
   "source": [
    "prompt = \"\"\"assuming windows operating system, write a python code that presses search button, searches for google chrome, opens the best matching application, searches for ai in google chrome. Only return the string of the python code that can be executed without any comments\"\"\".strip()\n",
    "\n",
    "parameters = {\n",
    "    \"temperature\": 0.2,\n",
    "    \"max_output_tokens\": 256,\n",
    "    \"top_p\": 0.8,\n",
    "    \"top_k\": 40}\n",
    "\n",
    "model = TextGenerationModel.from_pretrained(\"text-bison@001\")\n",
    "response = model.predict(prompt, **parameters)\n",
    "\n",
    "print(f\"{response.text[10:-3]}\")"
   ],
   "metadata": {
    "collapsed": false,
    "ExecuteTime": {
     "end_time": "2023-07-09T02:28:20.903612600Z",
     "start_time": "2023-07-09T02:28:18.591384600Z"
    }
   }
  },
  {
   "cell_type": "code",
   "execution_count": 22,
   "outputs": [],
   "source": [
    "def run_python_code(code):\n",
    "  with open(\"execute.py\", \"w\") as f:\n",
    "    f.write(code)\n",
    "\n",
    "  exec(compile(open(\"execute.py\").read(), \"execute.py\", \"exec\"))"
   ],
   "metadata": {
    "collapsed": false,
    "ExecuteTime": {
     "end_time": "2023-07-09T02:28:40.162189800Z",
     "start_time": "2023-07-09T02:28:40.157805Z"
    }
   }
  },
  {
   "cell_type": "code",
   "execution_count": 10,
   "outputs": [],
   "source": [
    "code = \"\"\"\n",
    "import pyautogui\n",
    "import webbrowser\n",
    "\n",
    "# Press the search button\n",
    "pyautogui.press('win')\n",
    "pyautogui.press('s')\n",
    "\n",
    "# Type \"google chrome\" and press enter\n",
    "pyautogui.write('google chrome')\n",
    "pyautogui.press('enter')\n",
    "\n",
    "# Open the first matching application\n",
    "webbrowser.open('https://www.google.com/search?q=ai')\n",
    "\n",
    "# Find the first image and save it with name ai.png in desktop directory\n",
    "image = pyautogui.screenshot()\n",
    "image.save('C:\\\\Users\\\\adibv\\Desktop\\\\ai.png')\n",
    "\"\"\""
   ],
   "metadata": {
    "collapsed": false,
    "ExecuteTime": {
     "end_time": "2023-07-07T23:43:53.260840900Z",
     "start_time": "2023-07-07T23:43:53.255781200Z"
    }
   }
  },
  {
   "cell_type": "code",
   "execution_count": 25,
   "outputs": [
    {
     "ename": "Error",
     "evalue": "could not locate runnable browser",
     "output_type": "error",
     "traceback": [
      "\u001B[1;31m---------------------------------------------------------------------------\u001B[0m",
      "\u001B[1;31mError\u001B[0m                                     Traceback (most recent call last)",
      "Cell \u001B[1;32mIn[25], line 1\u001B[0m\n\u001B[1;32m----> 1\u001B[0m \u001B[43mrun_python_code\u001B[49m\u001B[43m(\u001B[49m\u001B[38;5;28;43mstr\u001B[39;49m\u001B[43m(\u001B[49m\u001B[43mresponse\u001B[49m\u001B[38;5;241;43m.\u001B[39;49m\u001B[43mtext\u001B[49m\u001B[43m[\u001B[49m\u001B[38;5;241;43m10\u001B[39;49m\u001B[43m:\u001B[49m\u001B[38;5;241;43m-\u001B[39;49m\u001B[38;5;241;43m3\u001B[39;49m\u001B[43m]\u001B[49m\u001B[43m)\u001B[49m\u001B[43m)\u001B[49m\n",
      "Cell \u001B[1;32mIn[22], line 5\u001B[0m, in \u001B[0;36mrun_python_code\u001B[1;34m(code)\u001B[0m\n\u001B[0;32m      2\u001B[0m \u001B[38;5;28;01mwith\u001B[39;00m \u001B[38;5;28mopen\u001B[39m(\u001B[38;5;124m\"\u001B[39m\u001B[38;5;124mexecute.py\u001B[39m\u001B[38;5;124m\"\u001B[39m, \u001B[38;5;124m\"\u001B[39m\u001B[38;5;124mw\u001B[39m\u001B[38;5;124m\"\u001B[39m) \u001B[38;5;28;01mas\u001B[39;00m f:\n\u001B[0;32m      3\u001B[0m   f\u001B[38;5;241m.\u001B[39mwrite(code)\n\u001B[1;32m----> 5\u001B[0m \u001B[43mexec\u001B[49m\u001B[43m(\u001B[49m\u001B[38;5;28;43mcompile\u001B[39;49m\u001B[43m(\u001B[49m\u001B[38;5;28;43mopen\u001B[39;49m\u001B[43m(\u001B[49m\u001B[38;5;124;43m\"\u001B[39;49m\u001B[38;5;124;43mexecute.py\u001B[39;49m\u001B[38;5;124;43m\"\u001B[39;49m\u001B[43m)\u001B[49m\u001B[38;5;241;43m.\u001B[39;49m\u001B[43mread\u001B[49m\u001B[43m(\u001B[49m\u001B[43m)\u001B[49m\u001B[43m,\u001B[49m\u001B[43m \u001B[49m\u001B[38;5;124;43m\"\u001B[39;49m\u001B[38;5;124;43mexecute.py\u001B[39;49m\u001B[38;5;124;43m\"\u001B[39;49m\u001B[43m,\u001B[49m\u001B[43m \u001B[49m\u001B[38;5;124;43m\"\u001B[39;49m\u001B[38;5;124;43mexec\u001B[39;49m\u001B[38;5;124;43m\"\u001B[39;49m\u001B[43m)\u001B[49m\u001B[43m)\u001B[49m\n",
      "File \u001B[1;32mD:\\Biology Olympiad\\Computer Science\\Hackathon\\Google Hack\\execute.py:12\u001B[0m\n\u001B[0;32m      9\u001B[0m pyautogui\u001B[38;5;241m.\u001B[39mpress(\u001B[38;5;124m'\u001B[39m\u001B[38;5;124menter\u001B[39m\u001B[38;5;124m'\u001B[39m)\n\u001B[0;32m     11\u001B[0m \u001B[38;5;66;03m# Wait for Google Chrome to open.\u001B[39;00m\n\u001B[1;32m---> 12\u001B[0m \u001B[43mwebbrowser\u001B[49m\u001B[38;5;241;43m.\u001B[39;49m\u001B[43mget\u001B[49m\u001B[43m(\u001B[49m\u001B[38;5;124;43m'\u001B[39;49m\u001B[38;5;124;43mchrome\u001B[39;49m\u001B[38;5;124;43m'\u001B[39;49m\u001B[43m)\u001B[49m\u001B[38;5;241m.\u001B[39mopen(\u001B[38;5;124m'\u001B[39m\u001B[38;5;124mhttps://www.google.com/search?q=ai\u001B[39m\u001B[38;5;124m'\u001B[39m)\n",
      "File \u001B[1;32m~\\AppData\\Local\\Programs\\Python\\Python311\\Lib\\webbrowser.py:66\u001B[0m, in \u001B[0;36mget\u001B[1;34m(using)\u001B[0m\n\u001B[0;32m     64\u001B[0m         \u001B[38;5;28;01melif\u001B[39;00m command[\u001B[38;5;241m0\u001B[39m] \u001B[38;5;129;01mis\u001B[39;00m \u001B[38;5;129;01mnot\u001B[39;00m \u001B[38;5;28;01mNone\u001B[39;00m:\n\u001B[0;32m     65\u001B[0m             \u001B[38;5;28;01mreturn\u001B[39;00m command[\u001B[38;5;241m0\u001B[39m]()\n\u001B[1;32m---> 66\u001B[0m \u001B[38;5;28;01mraise\u001B[39;00m Error(\u001B[38;5;124m\"\u001B[39m\u001B[38;5;124mcould not locate runnable browser\u001B[39m\u001B[38;5;124m\"\u001B[39m)\n",
      "\u001B[1;31mError\u001B[0m: could not locate runnable browser"
     ]
    }
   ],
   "source": [
    "run_python_code(str(response.text[10:-3]))"
   ],
   "metadata": {
    "collapsed": false,
    "ExecuteTime": {
     "end_time": "2023-07-09T02:28:59.687260900Z",
     "start_time": "2023-07-09T02:28:59.259879700Z"
    }
   }
  }
 ],
 "metadata": {
  "kernelspec": {
   "display_name": "Python 3",
   "language": "python",
   "name": "python3"
  },
  "language_info": {
   "codemirror_mode": {
    "name": "ipython",
    "version": 2
   },
   "file_extension": ".py",
   "mimetype": "text/x-python",
   "name": "python",
   "nbconvert_exporter": "python",
   "pygments_lexer": "ipython2",
   "version": "2.7.6"
  }
 },
 "nbformat": 4,
 "nbformat_minor": 0
}
