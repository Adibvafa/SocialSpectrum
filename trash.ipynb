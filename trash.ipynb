{
 "cells": [
  {
   "cell_type": "code",
   "execution_count": 1,
   "outputs": [],
   "source": [
    "import os\n",
    "\n",
    "def run_python_code(code):\n",
    "  with open(\"execute.py\", \"w\") as f:\n",
    "    f.write(code)\n",
    "\n",
    "  exec(compile(open(\"execute.py\").read(), \"execute.py\", \"exec\"))\n"
   ],
   "metadata": {
    "collapsed": false,
    "ExecuteTime": {
     "end_time": "2023-07-08T02:21:50.883978700Z",
     "start_time": "2023-07-08T02:21:50.860849700Z"
    }
   }
  },
  {
   "cell_type": "code",
   "execution_count": 2,
   "outputs": [
    {
     "ename": "DefaultCredentialsError",
     "evalue": "Your default credentials were not found. To set up Application Default Credentials, see https://cloud.google.com/docs/authentication/external/set-up-adc for more information.",
     "output_type": "error",
     "traceback": [
      "\u001B[1;31m---------------------------------------------------------------------------\u001B[0m",
      "\u001B[1;31mDefaultCredentialsError\u001B[0m                   Traceback (most recent call last)",
      "Cell \u001B[1;32mIn[2], line 11\u001B[0m\n\u001B[0;32m      4\u001B[0m vertexai\u001B[38;5;241m.\u001B[39minit(project\u001B[38;5;241m=\u001B[39m\u001B[38;5;124m\"\u001B[39m\u001B[38;5;124msnappy-sunset-392223\u001B[39m\u001B[38;5;124m\"\u001B[39m, location\u001B[38;5;241m=\u001B[39m\u001B[38;5;124m\"\u001B[39m\u001B[38;5;124mus-central1\u001B[39m\u001B[38;5;124m\"\u001B[39m)\n\u001B[0;32m      5\u001B[0m parameters \u001B[38;5;241m=\u001B[39m {\n\u001B[0;32m      6\u001B[0m     \u001B[38;5;124m\"\u001B[39m\u001B[38;5;124mtemperature\u001B[39m\u001B[38;5;124m\"\u001B[39m: \u001B[38;5;241m0.2\u001B[39m,\n\u001B[0;32m      7\u001B[0m     \u001B[38;5;124m\"\u001B[39m\u001B[38;5;124mmax_output_tokens\u001B[39m\u001B[38;5;124m\"\u001B[39m: \u001B[38;5;241m256\u001B[39m,\n\u001B[0;32m      8\u001B[0m     \u001B[38;5;124m\"\u001B[39m\u001B[38;5;124mtop_p\u001B[39m\u001B[38;5;124m\"\u001B[39m: \u001B[38;5;241m0.8\u001B[39m,\n\u001B[0;32m      9\u001B[0m     \u001B[38;5;124m\"\u001B[39m\u001B[38;5;124mtop_k\u001B[39m\u001B[38;5;124m\"\u001B[39m: \u001B[38;5;241m40\u001B[39m\n\u001B[0;32m     10\u001B[0m }\n\u001B[1;32m---> 11\u001B[0m model \u001B[38;5;241m=\u001B[39m \u001B[43mTextGenerationModel\u001B[49m\u001B[38;5;241;43m.\u001B[39;49m\u001B[43mfrom_pretrained\u001B[49m\u001B[43m(\u001B[49m\u001B[38;5;124;43m\"\u001B[39;49m\u001B[38;5;124;43mtext-bison\u001B[39;49m\u001B[38;5;124;43m\"\u001B[39;49m\u001B[43m)\u001B[49m\n\u001B[0;32m     12\u001B[0m response \u001B[38;5;241m=\u001B[39m model\u001B[38;5;241m.\u001B[39mpredict(\n\u001B[0;32m     13\u001B[0m \u001B[38;5;250m    \u001B[39m\u001B[38;5;124;03m\"\"\"assuming windows operating system, write a python code that presses search button, searches for google chrome, opens the best matching application, searches for ai in google chrome. Only send the string of the python code without any comments\"\"\"\u001B[39;00m,\n\u001B[0;32m     14\u001B[0m     \u001B[38;5;241m*\u001B[39m\u001B[38;5;241m*\u001B[39mparameters\n\u001B[0;32m     15\u001B[0m )\n\u001B[0;32m     17\u001B[0m code \u001B[38;5;241m=\u001B[39m response\u001B[38;5;241m.\u001B[39mtext\n",
      "File \u001B[1;32m~\\AppData\\Local\\Programs\\Python\\Python311\\Lib\\site-packages\\vertexai\\_model_garden\\_model_garden_models.py:211\u001B[0m, in \u001B[0;36m_ModelGardenModel.from_pretrained\u001B[1;34m(cls, model_name)\u001B[0m\n\u001B[0;32m    206\u001B[0m \u001B[38;5;28;01mif\u001B[39;00m \u001B[38;5;129;01mnot\u001B[39;00m \u001B[38;5;28mcls\u001B[39m\u001B[38;5;241m.\u001B[39m_INSTANCE_SCHEMA_URI:\n\u001B[0;32m    207\u001B[0m     \u001B[38;5;28;01mraise\u001B[39;00m \u001B[38;5;167;01mValueError\u001B[39;00m(\n\u001B[0;32m    208\u001B[0m         \u001B[38;5;124mf\u001B[39m\u001B[38;5;124m\"\u001B[39m\u001B[38;5;124mClass \u001B[39m\u001B[38;5;132;01m{\u001B[39;00m\u001B[38;5;28mcls\u001B[39m\u001B[38;5;132;01m}\u001B[39;00m\u001B[38;5;124m is not a correct model interface class since it does not have an instance schema URI.\u001B[39m\u001B[38;5;124m\"\u001B[39m\n\u001B[0;32m    209\u001B[0m     )\n\u001B[1;32m--> 211\u001B[0m model_info \u001B[38;5;241m=\u001B[39m \u001B[43m_get_model_info\u001B[49m\u001B[43m(\u001B[49m\n\u001B[0;32m    212\u001B[0m \u001B[43m    \u001B[49m\u001B[43mmodel_id\u001B[49m\u001B[38;5;241;43m=\u001B[39;49m\u001B[43mmodel_name\u001B[49m\u001B[43m,\u001B[49m\u001B[43m \u001B[49m\u001B[43mschema_to_class_map\u001B[49m\u001B[38;5;241;43m=\u001B[39;49m\u001B[43m{\u001B[49m\u001B[38;5;28;43mcls\u001B[39;49m\u001B[38;5;241;43m.\u001B[39;49m\u001B[43m_INSTANCE_SCHEMA_URI\u001B[49m\u001B[43m:\u001B[49m\u001B[43m \u001B[49m\u001B[38;5;28;43mcls\u001B[39;49m\u001B[43m}\u001B[49m\n\u001B[0;32m    213\u001B[0m \u001B[43m\u001B[49m\u001B[43m)\u001B[49m\n\u001B[0;32m    215\u001B[0m \u001B[38;5;28;01mif\u001B[39;00m \u001B[38;5;129;01mnot\u001B[39;00m \u001B[38;5;28missubclass\u001B[39m(model_info\u001B[38;5;241m.\u001B[39minterface_class, \u001B[38;5;28mcls\u001B[39m):\n\u001B[0;32m    216\u001B[0m     \u001B[38;5;28;01mraise\u001B[39;00m \u001B[38;5;167;01mValueError\u001B[39;00m(\n\u001B[0;32m    217\u001B[0m         \u001B[38;5;124mf\u001B[39m\u001B[38;5;124m\"\u001B[39m\u001B[38;5;132;01m{\u001B[39;00mmodel_name\u001B[38;5;132;01m}\u001B[39;00m\u001B[38;5;124m is of type \u001B[39m\u001B[38;5;132;01m{\u001B[39;00mmodel_info\u001B[38;5;241m.\u001B[39minterface_class\u001B[38;5;241m.\u001B[39m\u001B[38;5;18m__name__\u001B[39m\u001B[38;5;132;01m}\u001B[39;00m\u001B[38;5;124m not of type \u001B[39m\u001B[38;5;132;01m{\u001B[39;00m\u001B[38;5;28mcls\u001B[39m\u001B[38;5;241m.\u001B[39m\u001B[38;5;18m__name__\u001B[39m\u001B[38;5;132;01m}\u001B[39;00m\u001B[38;5;124m\"\u001B[39m\n\u001B[0;32m    218\u001B[0m     )\n",
      "File \u001B[1;32m~\\AppData\\Local\\Programs\\Python\\Python311\\Lib\\site-packages\\vertexai\\_model_garden\\_model_garden_models.py:93\u001B[0m, in \u001B[0;36m_get_model_info\u001B[1;34m(model_id, schema_to_class_map)\u001B[0m\n\u001B[0;32m     89\u001B[0m \u001B[38;5;28;01mif\u001B[39;00m \u001B[38;5;124m\"\u001B[39m\u001B[38;5;124m/\u001B[39m\u001B[38;5;124m\"\u001B[39m \u001B[38;5;129;01mnot\u001B[39;00m \u001B[38;5;129;01min\u001B[39;00m model_id:\n\u001B[0;32m     90\u001B[0m     model_id \u001B[38;5;241m=\u001B[39m \u001B[38;5;124m\"\u001B[39m\u001B[38;5;124mpublishers/google/models/\u001B[39m\u001B[38;5;124m\"\u001B[39m \u001B[38;5;241m+\u001B[39m model_id\n\u001B[0;32m     92\u001B[0m publisher_model_res \u001B[38;5;241m=\u001B[39m (\n\u001B[1;32m---> 93\u001B[0m     \u001B[43m_publisher_models\u001B[49m\u001B[38;5;241;43m.\u001B[39;49m\u001B[43m_PublisherModel\u001B[49m\u001B[43m(\u001B[49m\u001B[43m  \u001B[49m\u001B[38;5;66;43;03m# pylint: disable=protected-access\u001B[39;49;00m\n\u001B[0;32m     94\u001B[0m \u001B[43m        \u001B[49m\u001B[43mresource_name\u001B[49m\u001B[38;5;241;43m=\u001B[39;49m\u001B[43mmodel_id\u001B[49m\n\u001B[0;32m     95\u001B[0m \u001B[43m    \u001B[49m\u001B[43m)\u001B[49m\u001B[38;5;241m.\u001B[39m_gca_resource\n\u001B[0;32m     96\u001B[0m )\n\u001B[0;32m     98\u001B[0m \u001B[38;5;28;01mif\u001B[39;00m \u001B[38;5;129;01mnot\u001B[39;00m publisher_model_res\u001B[38;5;241m.\u001B[39mname\u001B[38;5;241m.\u001B[39mstartswith(\u001B[38;5;124m\"\u001B[39m\u001B[38;5;124mpublishers/google/models/\u001B[39m\u001B[38;5;124m\"\u001B[39m):\n\u001B[0;32m     99\u001B[0m     \u001B[38;5;28;01mraise\u001B[39;00m \u001B[38;5;167;01mValueError\u001B[39;00m(\n\u001B[0;32m    100\u001B[0m         \u001B[38;5;124mf\u001B[39m\u001B[38;5;124m\"\u001B[39m\u001B[38;5;124mOnly Google models are currently supported. \u001B[39m\u001B[38;5;132;01m{\u001B[39;00mpublisher_model_res\u001B[38;5;241m.\u001B[39mname\u001B[38;5;132;01m}\u001B[39;00m\u001B[38;5;124m\"\u001B[39m\n\u001B[0;32m    101\u001B[0m     )\n",
      "File \u001B[1;32m~\\AppData\\Local\\Programs\\Python\\Python311\\Lib\\site-packages\\google\\cloud\\aiplatform\\_publisher_models.py:63\u001B[0m, in \u001B[0;36m_PublisherModel.__init__\u001B[1;34m(self, resource_name, project, location, credentials)\u001B[0m\n\u001B[0;32m     37\u001B[0m \u001B[38;5;28;01mdef\u001B[39;00m \u001B[38;5;21m__init__\u001B[39m(\n\u001B[0;32m     38\u001B[0m     \u001B[38;5;28mself\u001B[39m,\n\u001B[0;32m     39\u001B[0m     resource_name: \u001B[38;5;28mstr\u001B[39m,\n\u001B[1;32m   (...)\u001B[0m\n\u001B[0;32m     42\u001B[0m     credentials: Optional[auth_credentials\u001B[38;5;241m.\u001B[39mCredentials] \u001B[38;5;241m=\u001B[39m \u001B[38;5;28;01mNone\u001B[39;00m,\n\u001B[0;32m     43\u001B[0m ):\n\u001B[0;32m     44\u001B[0m \u001B[38;5;250m    \u001B[39m\u001B[38;5;124;03m\"\"\"Retrieves an existing PublisherModel resource given a resource name or model garden id.\u001B[39;00m\n\u001B[0;32m     45\u001B[0m \n\u001B[0;32m     46\u001B[0m \u001B[38;5;124;03m    Args:\u001B[39;00m\n\u001B[1;32m   (...)\u001B[0m\n\u001B[0;32m     60\u001B[0m \u001B[38;5;124;03m            Overrides credentials set in aiplatform.init.\u001B[39;00m\n\u001B[0;32m     61\u001B[0m \u001B[38;5;124;03m    \"\"\"\u001B[39;00m\n\u001B[1;32m---> 63\u001B[0m     \u001B[38;5;28;43msuper\u001B[39;49m\u001B[43m(\u001B[49m\u001B[43m)\u001B[49m\u001B[38;5;241;43m.\u001B[39;49m\u001B[38;5;21;43m__init__\u001B[39;49m\u001B[43m(\u001B[49m\u001B[43mproject\u001B[49m\u001B[38;5;241;43m=\u001B[39;49m\u001B[43mproject\u001B[49m\u001B[43m,\u001B[49m\u001B[43m \u001B[49m\u001B[43mlocation\u001B[49m\u001B[38;5;241;43m=\u001B[39;49m\u001B[43mlocation\u001B[49m\u001B[43m,\u001B[49m\u001B[43m \u001B[49m\u001B[43mcredentials\u001B[49m\u001B[38;5;241;43m=\u001B[39;49m\u001B[43mcredentials\u001B[49m\u001B[43m)\u001B[49m\n\u001B[0;32m     65\u001B[0m     \u001B[38;5;28;01mif\u001B[39;00m \u001B[38;5;28mself\u001B[39m\u001B[38;5;241m.\u001B[39m_parse_resource_name(resource_name):\n\u001B[0;32m     66\u001B[0m         full_resource_name \u001B[38;5;241m=\u001B[39m resource_name\n",
      "File \u001B[1;32m~\\AppData\\Local\\Programs\\Python\\Python311\\Lib\\site-packages\\google\\cloud\\aiplatform\\base.py:509\u001B[0m, in \u001B[0;36mVertexAiResourceNoun.__init__\u001B[1;34m(self, project, location, credentials, resource_name)\u001B[0m\n\u001B[0;32m    507\u001B[0m \u001B[38;5;28mself\u001B[39m\u001B[38;5;241m.\u001B[39mproject \u001B[38;5;241m=\u001B[39m project \u001B[38;5;129;01mor\u001B[39;00m initializer\u001B[38;5;241m.\u001B[39mglobal_config\u001B[38;5;241m.\u001B[39mproject\n\u001B[0;32m    508\u001B[0m \u001B[38;5;28mself\u001B[39m\u001B[38;5;241m.\u001B[39mlocation \u001B[38;5;241m=\u001B[39m location \u001B[38;5;129;01mor\u001B[39;00m initializer\u001B[38;5;241m.\u001B[39mglobal_config\u001B[38;5;241m.\u001B[39mlocation\n\u001B[1;32m--> 509\u001B[0m \u001B[38;5;28mself\u001B[39m\u001B[38;5;241m.\u001B[39mcredentials \u001B[38;5;241m=\u001B[39m credentials \u001B[38;5;129;01mor\u001B[39;00m \u001B[43minitializer\u001B[49m\u001B[38;5;241;43m.\u001B[39;49m\u001B[43mglobal_config\u001B[49m\u001B[38;5;241;43m.\u001B[39;49m\u001B[43mcredentials\u001B[49m\n\u001B[0;32m    511\u001B[0m appended_user_agent \u001B[38;5;241m=\u001B[39m \u001B[38;5;28;01mNone\u001B[39;00m\n\u001B[0;32m    512\u001B[0m \u001B[38;5;28;01mif\u001B[39;00m base_constants\u001B[38;5;241m.\u001B[39mUSER_AGENT_SDK_COMMAND:\n",
      "File \u001B[1;32m~\\AppData\\Local\\Programs\\Python\\Python311\\Lib\\site-packages\\google\\cloud\\aiplatform\\initializer.py:280\u001B[0m, in \u001B[0;36m_Config.credentials\u001B[1;34m(self)\u001B[0m\n\u001B[0;32m    278\u001B[0m logging_warning_filter \u001B[38;5;241m=\u001B[39m utils\u001B[38;5;241m.\u001B[39mLoggingFilter(logging\u001B[38;5;241m.\u001B[39mWARNING)\n\u001B[0;32m    279\u001B[0m logger\u001B[38;5;241m.\u001B[39maddFilter(logging_warning_filter)\n\u001B[1;32m--> 280\u001B[0m \u001B[38;5;28;43mself\u001B[39;49m\u001B[38;5;241;43m.\u001B[39;49m\u001B[43m_set_project_as_env_var_or_google_auth_default\u001B[49m\u001B[43m(\u001B[49m\u001B[43m)\u001B[49m\n\u001B[0;32m    281\u001B[0m credentials \u001B[38;5;241m=\u001B[39m \u001B[38;5;28mself\u001B[39m\u001B[38;5;241m.\u001B[39m_credentials\n\u001B[0;32m    282\u001B[0m logger\u001B[38;5;241m.\u001B[39mremoveFilter(logging_warning_filter)\n",
      "File \u001B[1;32m~\\AppData\\Local\\Programs\\Python\\Python311\\Lib\\site-packages\\google\\cloud\\aiplatform\\initializer.py:86\u001B[0m, in \u001B[0;36m_Config._set_project_as_env_var_or_google_auth_default\u001B[1;34m(self)\u001B[0m\n\u001B[0;32m     83\u001B[0m         \u001B[38;5;28mself\u001B[39m\u001B[38;5;241m.\u001B[39m_project \u001B[38;5;241m=\u001B[39m project\n\u001B[0;32m     85\u001B[0m \u001B[38;5;28;01mif\u001B[39;00m \u001B[38;5;129;01mnot\u001B[39;00m \u001B[38;5;28mself\u001B[39m\u001B[38;5;241m.\u001B[39m_credentials:\n\u001B[1;32m---> 86\u001B[0m     credentials, _ \u001B[38;5;241m=\u001B[39m \u001B[43mgoogle\u001B[49m\u001B[38;5;241;43m.\u001B[39;49m\u001B[43mauth\u001B[49m\u001B[38;5;241;43m.\u001B[39;49m\u001B[43mdefault\u001B[49m\u001B[43m(\u001B[49m\u001B[43m)\u001B[49m\n\u001B[0;32m     87\u001B[0m     \u001B[38;5;28mself\u001B[39m\u001B[38;5;241m.\u001B[39m_credentials \u001B[38;5;241m=\u001B[39m credentials\n",
      "File \u001B[1;32m~\\AppData\\Roaming\\Python\\Python311\\site-packages\\google\\auth\\_default.py:648\u001B[0m, in \u001B[0;36mdefault\u001B[1;34m(scopes, request, quota_project_id, default_scopes)\u001B[0m\n\u001B[0;32m    640\u001B[0m             _LOGGER\u001B[38;5;241m.\u001B[39mwarning(\n\u001B[0;32m    641\u001B[0m                 \u001B[38;5;124m\"\u001B[39m\u001B[38;5;124mNo project ID could be determined. Consider running \u001B[39m\u001B[38;5;124m\"\u001B[39m\n\u001B[0;32m    642\u001B[0m                 \u001B[38;5;124m\"\u001B[39m\u001B[38;5;124m`gcloud config set project` or setting the \u001B[39m\u001B[38;5;132;01m%s\u001B[39;00m\u001B[38;5;124m \u001B[39m\u001B[38;5;124m\"\u001B[39m\n\u001B[0;32m    643\u001B[0m                 \u001B[38;5;124m\"\u001B[39m\u001B[38;5;124menvironment variable\u001B[39m\u001B[38;5;124m\"\u001B[39m,\n\u001B[0;32m    644\u001B[0m                 environment_vars\u001B[38;5;241m.\u001B[39mPROJECT,\n\u001B[0;32m    645\u001B[0m             )\n\u001B[0;32m    646\u001B[0m         \u001B[38;5;28;01mreturn\u001B[39;00m credentials, effective_project_id\n\u001B[1;32m--> 648\u001B[0m \u001B[38;5;28;01mraise\u001B[39;00m exceptions\u001B[38;5;241m.\u001B[39mDefaultCredentialsError(_CLOUD_SDK_MISSING_CREDENTIALS)\n",
      "\u001B[1;31mDefaultCredentialsError\u001B[0m: Your default credentials were not found. To set up Application Default Credentials, see https://cloud.google.com/docs/authentication/external/set-up-adc for more information."
     ]
    }
   ],
   "source": [
    "import vertexai\n",
    "from vertexai.language_models import TextGenerationModel\n",
    "\n",
    "vertexai.init(project=\"snappy-sunset-392223\", location=\"us-central1\")\n",
    "parameters = {\n",
    "    \"temperature\": 0.2,\n",
    "    \"max_output_tokens\": 256,\n",
    "    \"top_p\": 0.8,\n",
    "    \"top_k\": 40\n",
    "}\n",
    "model = TextGenerationModel.from_pretrained(\"text-bison\")\n",
    "response = model.predict(\n",
    "    \"\"\"assuming windows operating system, write a python code that presses search button, searches for google chrome, opens the best matching application, searches for ai in google chrome. Only send the string of the python code without any comments\"\"\",\n",
    "    **parameters\n",
    ")\n",
    "\n",
    "code = response.text"
   ],
   "metadata": {
    "collapsed": false,
    "ExecuteTime": {
     "end_time": "2023-07-08T02:21:57.598803Z",
     "start_time": "2023-07-08T02:21:51.559705Z"
    }
   }
  },
  {
   "cell_type": "code",
   "execution_count": 10,
   "outputs": [],
   "source": [
    "code = \"\"\"\n",
    "import pyautogui\n",
    "import webbrowser\n",
    "\n",
    "# Press the search button\n",
    "pyautogui.press('win')\n",
    "pyautogui.press('s')\n",
    "\n",
    "# Type \"google chrome\" and press enter\n",
    "pyautogui.write('google chrome')\n",
    "pyautogui.press('enter')\n",
    "\n",
    "# Open the first matching application\n",
    "webbrowser.open('https://www.google.com/search?q=ai')\n",
    "\n",
    "# Find the first image and save it with name ai.png in desktop directory\n",
    "image = pyautogui.screenshot()\n",
    "image.save('C:\\\\Users\\\\adibv\\Desktop\\\\ai.png')\n",
    "\"\"\""
   ],
   "metadata": {
    "collapsed": false,
    "ExecuteTime": {
     "end_time": "2023-07-07T23:43:53.260840900Z",
     "start_time": "2023-07-07T23:43:53.255781200Z"
    }
   }
  },
  {
   "cell_type": "code",
   "execution_count": 11,
   "outputs": [
    {
     "ename": "SyntaxError",
     "evalue": "(unicode error) 'unicodeescape' codec can't decode bytes in position 2-3: truncated \\UXXXXXXXX escape (execute.py, line 18)",
     "output_type": "error",
     "traceback": [
      "Traceback \u001B[1;36m(most recent call last)\u001B[0m:\n",
      "\u001B[0m  File \u001B[0;32m~\\AppData\\Local\\Programs\\Python\\Python311\\Lib\\site-packages\\IPython\\core\\interactiveshell.py:3460\u001B[0m in \u001B[0;35mrun_code\u001B[0m\n    exec(code_obj, self.user_global_ns, self.user_ns)\u001B[0m\n",
      "\u001B[0m  Cell \u001B[0;32mIn[11], line 1\u001B[0m\n    run_python_code(code)\u001B[0m\n",
      "\u001B[1;36m  Cell \u001B[1;32mIn[9], line 7\u001B[1;36m in \u001B[1;35mrun_python_code\u001B[1;36m\n\u001B[1;33m    exec(compile(open(\"execute.py\").read(), \"execute.py\", \"exec\"))\u001B[1;36m\n",
      "\u001B[1;36m  File \u001B[1;32mexecute.py:18\u001B[1;36m\u001B[0m\n\u001B[1;33m    image.save('C:\\Users\\adibv\\Desktop\\ai.png')\u001B[0m\n\u001B[1;37m                                              ^\u001B[0m\n\u001B[1;31mSyntaxError\u001B[0m\u001B[1;31m:\u001B[0m (unicode error) 'unicodeescape' codec can't decode bytes in position 2-3: truncated \\UXXXXXXXX escape\n"
     ]
    }
   ],
   "source": [
    "run_python_code(code)"
   ],
   "metadata": {
    "collapsed": false,
    "ExecuteTime": {
     "end_time": "2023-07-07T23:43:54.896167Z",
     "start_time": "2023-07-07T23:43:54.883442500Z"
    }
   }
  }
 ],
 "metadata": {
  "kernelspec": {
   "display_name": "Python 3",
   "language": "python",
   "name": "python3"
  },
  "language_info": {
   "codemirror_mode": {
    "name": "ipython",
    "version": 2
   },
   "file_extension": ".py",
   "mimetype": "text/x-python",
   "name": "python",
   "nbconvert_exporter": "python",
   "pygments_lexer": "ipython2",
   "version": "2.7.6"
  }
 },
 "nbformat": 4,
 "nbformat_minor": 0
}
