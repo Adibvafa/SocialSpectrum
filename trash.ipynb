{
 "cells": [
  {
   "cell_type": "code",
   "execution_count": 2,
   "outputs": [],
   "source": [
    "import os\n",
    "\n",
    "def run_python_code(code):\n",
    "  \"\"\"\n",
    "  This function receives a string of python code and runs it.\n",
    "\n",
    "  Args:\n",
    "    code: A string of python code.\n",
    "\n",
    "  Returns:\n",
    "    The output of the python code.\n",
    "  \"\"\"\n",
    "\n",
    "  # Create a python file named \"execute.py\" from the code.\n",
    "\n",
    "  with open(\"execute.py\", \"w\") as f:\n",
    "    f.write(code)\n",
    "\n",
    "  # Run the python file.\n",
    "\n",
    "  exec(compile(open(\"execute.py\").read(), \"execute.py\", \"exec\"))\n",
    "\n",
    "  # Delete the python file.\n",
    "\n",
    "  os.remove(\"execute.py\")"
   ],
   "metadata": {
    "collapsed": false,
    "ExecuteTime": {
     "end_time": "2023-07-07T23:31:46.982184300Z",
     "start_time": "2023-07-07T23:31:46.977979700Z"
    }
   }
  },
  {
   "cell_type": "code",
   "execution_count": 5,
   "outputs": [
    {
     "ename": "ModuleNotFoundError",
     "evalue": "No module named 'vertexai'",
     "output_type": "error",
     "traceback": [
      "\u001B[1;31m---------------------------------------------------------------------------\u001B[0m",
      "\u001B[1;31mModuleNotFoundError\u001B[0m                       Traceback (most recent call last)",
      "Cell \u001B[1;32mIn[5], line 1\u001B[0m\n\u001B[1;32m----> 1\u001B[0m \u001B[38;5;28;01mimport\u001B[39;00m \u001B[38;5;21;01mvertexai\u001B[39;00m\n\u001B[0;32m      2\u001B[0m \u001B[38;5;28;01mfrom\u001B[39;00m \u001B[38;5;21;01mvertexai\u001B[39;00m\u001B[38;5;21;01m.\u001B[39;00m\u001B[38;5;21;01mlanguage_models\u001B[39;00m \u001B[38;5;28;01mimport\u001B[39;00m TextGenerationModel\n\u001B[0;32m      4\u001B[0m vertexai\u001B[38;5;241m.\u001B[39minit(project\u001B[38;5;241m=\u001B[39m\u001B[38;5;124m\"\u001B[39m\u001B[38;5;124msnappy-sunset-392223\u001B[39m\u001B[38;5;124m\"\u001B[39m, location\u001B[38;5;241m=\u001B[39m\u001B[38;5;124m\"\u001B[39m\u001B[38;5;124mus-central1\u001B[39m\u001B[38;5;124m\"\u001B[39m)\n",
      "\u001B[1;31mModuleNotFoundError\u001B[0m: No module named 'vertexai'"
     ]
    }
   ],
   "source": [
    "import vertexai\n",
    "from vertexai.language_models import TextGenerationModel\n",
    "\n",
    "vertexai.init(project=\"snappy-sunset-392223\", location=\"us-central1\")\n",
    "parameters = {\n",
    "    \"temperature\": 0.2,\n",
    "    \"max_output_tokens\": 256,\n",
    "    \"top_p\": 0.8,\n",
    "    \"top_k\": 40\n",
    "}\n",
    "model = TextGenerationModel.from_pretrained(\"text-bison\")\n",
    "response = model.predict(\n",
    "    \"\"\"assuming windows operating system, write a python code that presses search button, searches for google chrome, opens the best matching application, searches for ai in google chrome. Only send the string of the python code without any comments\"\"\",\n",
    "    **parameters\n",
    ")\n",
    "\n",
    "code = response.text"
   ],
   "metadata": {
    "collapsed": false,
    "ExecuteTime": {
     "end_time": "2023-07-07T23:34:55.943397900Z",
     "start_time": "2023-07-07T23:34:55.903228600Z"
    }
   }
  },
  {
   "cell_type": "code",
   "execution_count": null,
   "outputs": [],
   "source": [
    "code = '''\n",
    "import pyautogui\n",
    "import time\n",
    "\n",
    "# Press the Windows key to open the Start menu.\n",
    "pyautogui.press('win')\n",
    "\n",
    "# Type the name of the application you want to open.\n",
    "pyautogui.write('google chrome')\n",
    "\n",
    "# Press the Enter key to open the application.\n",
    "pyautogui.press('enter')\n",
    "\n",
    "# Wait for the application to open.\n",
    "time.sleep(2)\n",
    "\n",
    "# Type the search term in the address bar.\n",
    "pyautogui.write('ai')\n",
    "\n",
    "# Press the Enter key to submit the search.\n",
    "pyautogui.press('enter')\n",
    "'''"
   ],
   "metadata": {
    "collapsed": false
   }
  },
  {
   "cell_type": "code",
   "execution_count": null,
   "outputs": [],
   "source": [
    "run_python_code(code)"
   ],
   "metadata": {
    "collapsed": false
   }
  }
 ],
 "metadata": {
  "kernelspec": {
   "display_name": "Python 3",
   "language": "python",
   "name": "python3"
  },
  "language_info": {
   "codemirror_mode": {
    "name": "ipython",
    "version": 2
   },
   "file_extension": ".py",
   "mimetype": "text/x-python",
   "name": "python",
   "nbconvert_exporter": "python",
   "pygments_lexer": "ipython2",
   "version": "2.7.6"
  }
 },
 "nbformat": 4,
 "nbformat_minor": 0
}
